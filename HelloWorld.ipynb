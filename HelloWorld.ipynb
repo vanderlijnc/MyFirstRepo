{
 "cells": [
  {
   "cell_type": "code",
   "execution_count": 2,
   "id": "e2406e03-d33f-4274-be38-adf26043b159",
   "metadata": {},
   "outputs": [
    {
     "name": "stdout",
     "output_type": "stream",
     "text": [
      "Hello,world!\n"
     ]
    }
   ],
   "source": [
    "print(\"Hello,world!\")"
   ]
  },
  {
   "cell_type": "markdown",
   "id": "65947685-b59b-4d6f-8942-48fc0ee47e74",
   "metadata": {},
   "source": [
    "# My First Markdown Heading"
   ]
  },
  {
   "cell_type": "markdown",
   "id": "f4f9e4a4-5b54-4e3e-8be1-de8dfe2ccba3",
   "metadata": {},
   "source": [
    "## My Second Markdown Heading"
   ]
  },
  {
   "cell_type": "markdown",
   "id": "6e8c6fa5-ae13-4df1-ad62-5f631614b24c",
   "metadata": {},
   "source": [
    "This is some **bold** text"
   ]
  },
  {
   "cell_type": "markdown",
   "id": "9c5d87de-af05-48da-81bc-1debe43caf4f",
   "metadata": {},
   "source": [
    "1. First item\n",
    "2. Second item\n",
    "3. Third item"
   ]
  },
  {
   "cell_type": "code",
   "execution_count": null,
   "id": "8d21c151-5d7e-4d95-9e03-bc71e59ca820",
   "metadata": {},
   "outputs": [],
   "source": [
    "my_var = 5"
   ]
  }
 ],
 "metadata": {
  "kernelspec": {
   "display_name": "Python 3 (ipykernel)",
   "language": "python",
   "name": "python3"
  },
  "language_info": {
   "codemirror_mode": {
    "name": "ipython",
    "version": 3
   },
   "file_extension": ".py",
   "mimetype": "text/x-python",
   "name": "python",
   "nbconvert_exporter": "python",
   "pygments_lexer": "ipython3",
   "version": "3.10.9"
  }
 },
 "nbformat": 4,
 "nbformat_minor": 5
}
